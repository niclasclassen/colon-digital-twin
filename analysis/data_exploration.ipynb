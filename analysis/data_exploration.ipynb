{
 "cells": [
  {
   "cell_type": "code",
   "execution_count": 1,
   "id": "a793950b",
   "metadata": {},
   "outputs": [],
   "source": [
    "import pandas as pd\n",
    "import matplotlib.pyplot as plt\n",
    "from matplotlib.patches import Patch\n",
    "import plotly.graph_objects as go\n",
    "import numpy as np"
   ]
  },
  {
   "cell_type": "markdown",
   "id": "fa079e3f",
   "metadata": {},
   "source": [
    "#### Load data"
   ]
  },
  {
   "cell_type": "code",
   "execution_count": 2,
   "id": "fe0757c0",
   "metadata": {},
   "outputs": [
    {
     "data": {
      "text/html": [
       "<div>\n",
       "<style scoped>\n",
       "    .dataframe tbody tr th:only-of-type {\n",
       "        vertical-align: middle;\n",
       "    }\n",
       "\n",
       "    .dataframe tbody tr th {\n",
       "        vertical-align: top;\n",
       "    }\n",
       "\n",
       "    .dataframe thead th {\n",
       "        text-align: right;\n",
       "    }\n",
       "</style>\n",
       "<table border=\"1\" class=\"dataframe\">\n",
       "  <thead>\n",
       "    <tr style=\"text-align: right;\">\n",
       "      <th></th>\n",
       "      <th>Patient ID</th>\n",
       "      <th>Patient Name</th>\n",
       "      <th>Patient Birth Date</th>\n",
       "      <th>Patient Sex</th>\n",
       "      <th>Ethnic Group</th>\n",
       "      <th>Phantom</th>\n",
       "      <th>Species Code</th>\n",
       "      <th>Species Description</th>\n",
       "      <th>Study Instance UID</th>\n",
       "      <th>Study Date</th>\n",
       "      <th>...</th>\n",
       "      <th>Manufacturer Model Name</th>\n",
       "      <th>Software Versions</th>\n",
       "      <th>Image Count</th>\n",
       "      <th>Max Submission Timestamp</th>\n",
       "      <th>License Name</th>\n",
       "      <th>License URI</th>\n",
       "      <th>Collection URI</th>\n",
       "      <th>File Size</th>\n",
       "      <th>Date Released</th>\n",
       "      <th>Third Party Analysis</th>\n",
       "    </tr>\n",
       "  </thead>\n",
       "  <tbody>\n",
       "    <tr>\n",
       "      <th>0</th>\n",
       "      <td>1.3.6.1.4.1.9328.50.4.0001</td>\n",
       "      <td>1.3.6.1.4.1.9328.50.4.0001</td>\n",
       "      <td>NaN</td>\n",
       "      <td>F</td>\n",
       "      <td>NaN</td>\n",
       "      <td>NO</td>\n",
       "      <td>337915000</td>\n",
       "      <td>Homo sapiens</td>\n",
       "      <td>1.3.6.1.4.1.9328.50.4.1</td>\n",
       "      <td>2000-01-01 00:00:00.0</td>\n",
       "      <td>...</td>\n",
       "      <td>Sensation 64</td>\n",
       "      <td>syngo CT 2005A</td>\n",
       "      <td>2</td>\n",
       "      <td>2011-11-03 13:59:23.0</td>\n",
       "      <td>Creative Commons Attribution 3.0 Unported License</td>\n",
       "      <td>http://creativecommons.org/licenses/by/3.0/</td>\n",
       "      <td>https://doi.org/10.7937/K9/TCIA.2015.NWTESAY1</td>\n",
       "      <td>1052388</td>\n",
       "      <td>2013-11-15 00:00:00.0</td>\n",
       "      <td>NaN</td>\n",
       "    </tr>\n",
       "    <tr>\n",
       "      <th>1</th>\n",
       "      <td>1.3.6.1.4.1.9328.50.4.0001</td>\n",
       "      <td>1.3.6.1.4.1.9328.50.4.0001</td>\n",
       "      <td>NaN</td>\n",
       "      <td>F</td>\n",
       "      <td>NaN</td>\n",
       "      <td>NO</td>\n",
       "      <td>337915000</td>\n",
       "      <td>Homo sapiens</td>\n",
       "      <td>1.3.6.1.4.1.9328.50.4.1</td>\n",
       "      <td>2000-01-01 00:00:00.0</td>\n",
       "      <td>...</td>\n",
       "      <td>Sensation 64</td>\n",
       "      <td>syngo CT 2005A</td>\n",
       "      <td>1</td>\n",
       "      <td>2011-11-03 13:59:23.0</td>\n",
       "      <td>Creative Commons Attribution 3.0 Unported License</td>\n",
       "      <td>http://creativecommons.org/licenses/by/3.0/</td>\n",
       "      <td>https://doi.org/10.7937/K9/TCIA.2015.NWTESAY1</td>\n",
       "      <td>526150</td>\n",
       "      <td>2013-11-15 00:00:00.0</td>\n",
       "      <td>NaN</td>\n",
       "    </tr>\n",
       "    <tr>\n",
       "      <th>2</th>\n",
       "      <td>1.3.6.1.4.1.9328.50.4.0001</td>\n",
       "      <td>1.3.6.1.4.1.9328.50.4.0001</td>\n",
       "      <td>NaN</td>\n",
       "      <td>F</td>\n",
       "      <td>NaN</td>\n",
       "      <td>NO</td>\n",
       "      <td>337915000</td>\n",
       "      <td>Homo sapiens</td>\n",
       "      <td>1.3.6.1.4.1.9328.50.4.1</td>\n",
       "      <td>2000-01-01 00:00:00.0</td>\n",
       "      <td>...</td>\n",
       "      <td>Sensation 64</td>\n",
       "      <td>syngo CT 2005A</td>\n",
       "      <td>604</td>\n",
       "      <td>2011-11-03 14:02:12.0</td>\n",
       "      <td>Creative Commons Attribution 3.0 Unported License</td>\n",
       "      <td>http://creativecommons.org/licenses/by/3.0/</td>\n",
       "      <td>https://doi.org/10.7937/K9/TCIA.2015.NWTESAY1</td>\n",
       "      <td>317816814</td>\n",
       "      <td>2013-11-15 00:00:00.0</td>\n",
       "      <td>NaN</td>\n",
       "    </tr>\n",
       "    <tr>\n",
       "      <th>3</th>\n",
       "      <td>1.3.6.1.4.1.9328.50.4.0001</td>\n",
       "      <td>1.3.6.1.4.1.9328.50.4.0001</td>\n",
       "      <td>NaN</td>\n",
       "      <td>F</td>\n",
       "      <td>NaN</td>\n",
       "      <td>NO</td>\n",
       "      <td>337915000</td>\n",
       "      <td>Homo sapiens</td>\n",
       "      <td>1.3.6.1.4.1.9328.50.4.1</td>\n",
       "      <td>2000-01-01 00:00:00.0</td>\n",
       "      <td>...</td>\n",
       "      <td>Sensation 64</td>\n",
       "      <td>syngo CT 2005A</td>\n",
       "      <td>625</td>\n",
       "      <td>2011-11-03 14:04:51.0</td>\n",
       "      <td>Creative Commons Attribution 3.0 Unported License</td>\n",
       "      <td>http://creativecommons.org/licenses/by/3.0/</td>\n",
       "      <td>https://doi.org/10.7937/K9/TCIA.2015.NWTESAY1</td>\n",
       "      <td>328867958</td>\n",
       "      <td>2013-11-15 00:00:00.0</td>\n",
       "      <td>NaN</td>\n",
       "    </tr>\n",
       "    <tr>\n",
       "      <th>4</th>\n",
       "      <td>1.3.6.1.4.1.9328.50.4.0002</td>\n",
       "      <td>1.3.6.1.4.1.9328.50.4.0002</td>\n",
       "      <td>NaN</td>\n",
       "      <td>M</td>\n",
       "      <td>NaN</td>\n",
       "      <td>NO</td>\n",
       "      <td>337915000</td>\n",
       "      <td>Homo sapiens</td>\n",
       "      <td>1.3.6.1.4.1.9328.50.4.1240</td>\n",
       "      <td>2000-01-01 00:00:00.0</td>\n",
       "      <td>...</td>\n",
       "      <td>Sensation 64</td>\n",
       "      <td>syngo CT 2005A</td>\n",
       "      <td>637</td>\n",
       "      <td>2011-11-03 14:07:49.0</td>\n",
       "      <td>Creative Commons Attribution 3.0 Unported License</td>\n",
       "      <td>http://creativecommons.org/licenses/by/3.0/</td>\n",
       "      <td>https://doi.org/10.7937/K9/TCIA.2015.NWTESAY1</td>\n",
       "      <td>335183810</td>\n",
       "      <td>2013-11-15 00:00:00.0</td>\n",
       "      <td>NaN</td>\n",
       "    </tr>\n",
       "  </tbody>\n",
       "</table>\n",
       "<p>5 rows × 36 columns</p>\n",
       "</div>"
      ],
      "text/plain": [
       "                   Patient ID                Patient Name  Patient Birth Date  \\\n",
       "0  1.3.6.1.4.1.9328.50.4.0001  1.3.6.1.4.1.9328.50.4.0001                 NaN   \n",
       "1  1.3.6.1.4.1.9328.50.4.0001  1.3.6.1.4.1.9328.50.4.0001                 NaN   \n",
       "2  1.3.6.1.4.1.9328.50.4.0001  1.3.6.1.4.1.9328.50.4.0001                 NaN   \n",
       "3  1.3.6.1.4.1.9328.50.4.0001  1.3.6.1.4.1.9328.50.4.0001                 NaN   \n",
       "4  1.3.6.1.4.1.9328.50.4.0002  1.3.6.1.4.1.9328.50.4.0002                 NaN   \n",
       "\n",
       "  Patient Sex  Ethnic Group Phantom  Species Code Species Description  \\\n",
       "0           F           NaN      NO     337915000        Homo sapiens   \n",
       "1           F           NaN      NO     337915000        Homo sapiens   \n",
       "2           F           NaN      NO     337915000        Homo sapiens   \n",
       "3           F           NaN      NO     337915000        Homo sapiens   \n",
       "4           M           NaN      NO     337915000        Homo sapiens   \n",
       "\n",
       "           Study Instance UID             Study Date  ...  \\\n",
       "0     1.3.6.1.4.1.9328.50.4.1  2000-01-01 00:00:00.0  ...   \n",
       "1     1.3.6.1.4.1.9328.50.4.1  2000-01-01 00:00:00.0  ...   \n",
       "2     1.3.6.1.4.1.9328.50.4.1  2000-01-01 00:00:00.0  ...   \n",
       "3     1.3.6.1.4.1.9328.50.4.1  2000-01-01 00:00:00.0  ...   \n",
       "4  1.3.6.1.4.1.9328.50.4.1240  2000-01-01 00:00:00.0  ...   \n",
       "\n",
       "  Manufacturer Model Name Software Versions  Image Count  \\\n",
       "0            Sensation 64    syngo CT 2005A            2   \n",
       "1            Sensation 64    syngo CT 2005A            1   \n",
       "2            Sensation 64    syngo CT 2005A          604   \n",
       "3            Sensation 64    syngo CT 2005A          625   \n",
       "4            Sensation 64    syngo CT 2005A          637   \n",
       "\n",
       "  Max Submission Timestamp                                       License Name  \\\n",
       "0    2011-11-03 13:59:23.0  Creative Commons Attribution 3.0 Unported License   \n",
       "1    2011-11-03 13:59:23.0  Creative Commons Attribution 3.0 Unported License   \n",
       "2    2011-11-03 14:02:12.0  Creative Commons Attribution 3.0 Unported License   \n",
       "3    2011-11-03 14:04:51.0  Creative Commons Attribution 3.0 Unported License   \n",
       "4    2011-11-03 14:07:49.0  Creative Commons Attribution 3.0 Unported License   \n",
       "\n",
       "                                   License URI  \\\n",
       "0  http://creativecommons.org/licenses/by/3.0/   \n",
       "1  http://creativecommons.org/licenses/by/3.0/   \n",
       "2  http://creativecommons.org/licenses/by/3.0/   \n",
       "3  http://creativecommons.org/licenses/by/3.0/   \n",
       "4  http://creativecommons.org/licenses/by/3.0/   \n",
       "\n",
       "                                  Collection URI  File Size  \\\n",
       "0  https://doi.org/10.7937/K9/TCIA.2015.NWTESAY1    1052388   \n",
       "1  https://doi.org/10.7937/K9/TCIA.2015.NWTESAY1     526150   \n",
       "2  https://doi.org/10.7937/K9/TCIA.2015.NWTESAY1  317816814   \n",
       "3  https://doi.org/10.7937/K9/TCIA.2015.NWTESAY1  328867958   \n",
       "4  https://doi.org/10.7937/K9/TCIA.2015.NWTESAY1  335183810   \n",
       "\n",
       "           Date Released Third Party Analysis  \n",
       "0  2013-11-15 00:00:00.0                  NaN  \n",
       "1  2013-11-15 00:00:00.0                  NaN  \n",
       "2  2013-11-15 00:00:00.0                  NaN  \n",
       "3  2013-11-15 00:00:00.0                  NaN  \n",
       "4  2013-11-15 00:00:00.0                  NaN  \n",
       "\n",
       "[5 rows x 36 columns]"
      ]
     },
     "execution_count": 2,
     "metadata": {},
     "output_type": "execute_result"
    }
   ],
   "source": [
    "file_path = \"/Users/dariavasile/Documents/MSc/Thesis/CT Colonography June 22 2015.xlsx\"  \n",
    "df = pd.read_excel(file_path, engine=\"openpyxl\")  \n",
    "df.head()"
   ]
  },
  {
   "cell_type": "code",
   "execution_count": 3,
   "id": "2ba870e8",
   "metadata": {},
   "outputs": [
    {
     "name": "stdout",
     "output_type": "stream",
     "text": [
      "3451\n"
     ]
    }
   ],
   "source": [
    "print(len(df))"
   ]
  },
  {
   "cell_type": "code",
   "execution_count": 4,
   "id": "fd6a62da",
   "metadata": {},
   "outputs": [],
   "source": [
    "file_path = \"/Users/dariavasile/Documents/MSc/Thesis/WP-BIO/tcia-data/meta-data/meta_data_df.json\"\n",
    "df2 = pd.read_json(file_path, lines=True)"
   ]
  },
  {
   "cell_type": "code",
   "execution_count": 5,
   "id": "29a253ef",
   "metadata": {},
   "outputs": [
    {
     "name": "stdout",
     "output_type": "stream",
     "text": [
      "Index(['InstanceUID', 'SubjectID', 'Date', 'Position', 'Sex', 'new_subject_id',\n",
      "       'version', 'name', 'mha_path', 'dicom_path', 'on_erda', 'non_collapsed',\n",
      "       'dimensions', 'iop_list', 'patient_position', 'pixel_spacing',\n",
      "       'slice_thickness', 'image_position_patient'],\n",
      "      dtype='object')\n"
     ]
    }
   ],
   "source": [
    "print(df2.columns)"
   ]
  },
  {
   "cell_type": "code",
   "execution_count": 6,
   "id": "349573b7",
   "metadata": {},
   "outputs": [],
   "source": [
    "columns_to_drop = ['Date', 'name', 'mha_path', 'dicom_path', \"on_erda\"]\n",
    "df2 = df2.drop(columns=columns_to_drop)\n"
   ]
  },
  {
   "cell_type": "code",
   "execution_count": 7,
   "id": "2bfa2ae7",
   "metadata": {},
   "outputs": [],
   "source": [
    "df = df.rename(columns={'Series Instance UID': 'InstanceUID'})"
   ]
  },
  {
   "cell_type": "code",
   "execution_count": 8,
   "id": "c61f845a",
   "metadata": {},
   "outputs": [
    {
     "data": {
      "text/html": [
       "<div>\n",
       "<style scoped>\n",
       "    .dataframe tbody tr th:only-of-type {\n",
       "        vertical-align: middle;\n",
       "    }\n",
       "\n",
       "    .dataframe tbody tr th {\n",
       "        vertical-align: top;\n",
       "    }\n",
       "\n",
       "    .dataframe thead th {\n",
       "        text-align: right;\n",
       "    }\n",
       "</style>\n",
       "<table border=\"1\" class=\"dataframe\">\n",
       "  <thead>\n",
       "    <tr style=\"text-align: right;\">\n",
       "      <th></th>\n",
       "      <th>InstanceUID</th>\n",
       "      <th>SubjectID</th>\n",
       "      <th>Date</th>\n",
       "      <th>Position</th>\n",
       "      <th>Sex</th>\n",
       "      <th>new_subject_id</th>\n",
       "      <th>version</th>\n",
       "      <th>name</th>\n",
       "      <th>mha_path</th>\n",
       "      <th>dicom_path</th>\n",
       "      <th>...</th>\n",
       "      <th>Manufacturer Model Name</th>\n",
       "      <th>Software Versions</th>\n",
       "      <th>Image Count</th>\n",
       "      <th>Max Submission Timestamp</th>\n",
       "      <th>License Name</th>\n",
       "      <th>License URI</th>\n",
       "      <th>Collection URI</th>\n",
       "      <th>File Size</th>\n",
       "      <th>Date Released</th>\n",
       "      <th>Third Party Analysis</th>\n",
       "    </tr>\n",
       "  </thead>\n",
       "  <tbody>\n",
       "    <tr>\n",
       "      <th>0</th>\n",
       "      <td>1.3.6.1.4.1.9328.50.4.1222</td>\n",
       "      <td>NaN</td>\n",
       "      <td>NaN</td>\n",
       "      <td>NaN</td>\n",
       "      <td>NaN</td>\n",
       "      <td>NaN</td>\n",
       "      <td>NaN</td>\n",
       "      <td>NaN</td>\n",
       "      <td>NaN</td>\n",
       "      <td>NaN</td>\n",
       "      <td>...</td>\n",
       "      <td>Sensation 64</td>\n",
       "      <td>syngo CT 2005A</td>\n",
       "      <td>2</td>\n",
       "      <td>2011-11-03 13:59:23.0</td>\n",
       "      <td>Creative Commons Attribution 3.0 Unported License</td>\n",
       "      <td>http://creativecommons.org/licenses/by/3.0/</td>\n",
       "      <td>https://doi.org/10.7937/K9/TCIA.2015.NWTESAY1</td>\n",
       "      <td>1052388</td>\n",
       "      <td>2013-11-15 00:00:00.0</td>\n",
       "      <td>NaN</td>\n",
       "    </tr>\n",
       "    <tr>\n",
       "      <th>1</th>\n",
       "      <td>1.3.6.1.4.1.9328.50.4.1224</td>\n",
       "      <td>NaN</td>\n",
       "      <td>NaN</td>\n",
       "      <td>NaN</td>\n",
       "      <td>NaN</td>\n",
       "      <td>NaN</td>\n",
       "      <td>NaN</td>\n",
       "      <td>NaN</td>\n",
       "      <td>NaN</td>\n",
       "      <td>NaN</td>\n",
       "      <td>...</td>\n",
       "      <td>Sensation 64</td>\n",
       "      <td>syngo CT 2005A</td>\n",
       "      <td>1</td>\n",
       "      <td>2011-11-03 13:59:23.0</td>\n",
       "      <td>Creative Commons Attribution 3.0 Unported License</td>\n",
       "      <td>http://creativecommons.org/licenses/by/3.0/</td>\n",
       "      <td>https://doi.org/10.7937/K9/TCIA.2015.NWTESAY1</td>\n",
       "      <td>526150</td>\n",
       "      <td>2013-11-15 00:00:00.0</td>\n",
       "      <td>NaN</td>\n",
       "    </tr>\n",
       "    <tr>\n",
       "      <th>2</th>\n",
       "      <td>1.3.6.1.4.1.9328.50.4.2</td>\n",
       "      <td>1.3.6.1.4.1.9328.50.4.0001</td>\n",
       "      <td>2000-01-01</td>\n",
       "      <td>Prone</td>\n",
       "      <td>F</td>\n",
       "      <td>sub001</td>\n",
       "      <td>1.0</td>\n",
       "      <td>sub001_pos-prone_scan-1</td>\n",
       "      <td>converted/sub001/sub001_pos-prone_scan-1_conv-...</td>\n",
       "      <td>raw/sub001/sub001_pos-prone_scan-1.zip</td>\n",
       "      <td>...</td>\n",
       "      <td>Sensation 64</td>\n",
       "      <td>syngo CT 2005A</td>\n",
       "      <td>604</td>\n",
       "      <td>2011-11-03 14:02:12.0</td>\n",
       "      <td>Creative Commons Attribution 3.0 Unported License</td>\n",
       "      <td>http://creativecommons.org/licenses/by/3.0/</td>\n",
       "      <td>https://doi.org/10.7937/K9/TCIA.2015.NWTESAY1</td>\n",
       "      <td>317816814</td>\n",
       "      <td>2013-11-15 00:00:00.0</td>\n",
       "      <td>NaN</td>\n",
       "    </tr>\n",
       "    <tr>\n",
       "      <th>3</th>\n",
       "      <td>1.3.6.1.4.1.9328.50.4.563</td>\n",
       "      <td>1.3.6.1.4.1.9328.50.4.0001</td>\n",
       "      <td>2000-01-01</td>\n",
       "      <td>Supine</td>\n",
       "      <td>F</td>\n",
       "      <td>sub001</td>\n",
       "      <td>1.0</td>\n",
       "      <td>sub001_pos-supine_scan-1</td>\n",
       "      <td>converted/sub001/sub001_pos-supine_scan-1_conv...</td>\n",
       "      <td>raw/sub001/sub001_pos-supine_scan-1.zip</td>\n",
       "      <td>...</td>\n",
       "      <td>Sensation 64</td>\n",
       "      <td>syngo CT 2005A</td>\n",
       "      <td>625</td>\n",
       "      <td>2011-11-03 14:04:51.0</td>\n",
       "      <td>Creative Commons Attribution 3.0 Unported License</td>\n",
       "      <td>http://creativecommons.org/licenses/by/3.0/</td>\n",
       "      <td>https://doi.org/10.7937/K9/TCIA.2015.NWTESAY1</td>\n",
       "      <td>328867958</td>\n",
       "      <td>2013-11-15 00:00:00.0</td>\n",
       "      <td>NaN</td>\n",
       "    </tr>\n",
       "    <tr>\n",
       "      <th>4</th>\n",
       "      <td>1.3.6.1.4.1.9328.50.4.1241</td>\n",
       "      <td>1.3.6.1.4.1.9328.50.4.0002</td>\n",
       "      <td>2000-01-01</td>\n",
       "      <td>Prone</td>\n",
       "      <td>M</td>\n",
       "      <td>sub002</td>\n",
       "      <td>1.0</td>\n",
       "      <td>sub002_pos-prone_scan-1</td>\n",
       "      <td>converted/sub002/sub002_pos-prone_scan-1_conv-...</td>\n",
       "      <td>raw/sub002/sub002_pos-prone_scan-1.zip</td>\n",
       "      <td>...</td>\n",
       "      <td>Sensation 64</td>\n",
       "      <td>syngo CT 2005A</td>\n",
       "      <td>637</td>\n",
       "      <td>2011-11-03 14:07:49.0</td>\n",
       "      <td>Creative Commons Attribution 3.0 Unported License</td>\n",
       "      <td>http://creativecommons.org/licenses/by/3.0/</td>\n",
       "      <td>https://doi.org/10.7937/K9/TCIA.2015.NWTESAY1</td>\n",
       "      <td>335183810</td>\n",
       "      <td>2013-11-15 00:00:00.0</td>\n",
       "      <td>NaN</td>\n",
       "    </tr>\n",
       "  </tbody>\n",
       "</table>\n",
       "<p>5 rows × 53 columns</p>\n",
       "</div>"
      ],
      "text/plain": [
       "                  InstanceUID                   SubjectID        Date  \\\n",
       "0  1.3.6.1.4.1.9328.50.4.1222                         NaN         NaN   \n",
       "1  1.3.6.1.4.1.9328.50.4.1224                         NaN         NaN   \n",
       "2     1.3.6.1.4.1.9328.50.4.2  1.3.6.1.4.1.9328.50.4.0001  2000-01-01   \n",
       "3   1.3.6.1.4.1.9328.50.4.563  1.3.6.1.4.1.9328.50.4.0001  2000-01-01   \n",
       "4  1.3.6.1.4.1.9328.50.4.1241  1.3.6.1.4.1.9328.50.4.0002  2000-01-01   \n",
       "\n",
       "  Position  Sex new_subject_id  version                      name  \\\n",
       "0      NaN  NaN            NaN      NaN                       NaN   \n",
       "1      NaN  NaN            NaN      NaN                       NaN   \n",
       "2    Prone    F         sub001      1.0   sub001_pos-prone_scan-1   \n",
       "3   Supine    F         sub001      1.0  sub001_pos-supine_scan-1   \n",
       "4    Prone    M         sub002      1.0   sub002_pos-prone_scan-1   \n",
       "\n",
       "                                            mha_path  \\\n",
       "0                                                NaN   \n",
       "1                                                NaN   \n",
       "2  converted/sub001/sub001_pos-prone_scan-1_conv-...   \n",
       "3  converted/sub001/sub001_pos-supine_scan-1_conv...   \n",
       "4  converted/sub002/sub002_pos-prone_scan-1_conv-...   \n",
       "\n",
       "                                dicom_path  ... Manufacturer Model Name  \\\n",
       "0                                      NaN  ...            Sensation 64   \n",
       "1                                      NaN  ...            Sensation 64   \n",
       "2   raw/sub001/sub001_pos-prone_scan-1.zip  ...            Sensation 64   \n",
       "3  raw/sub001/sub001_pos-supine_scan-1.zip  ...            Sensation 64   \n",
       "4   raw/sub002/sub002_pos-prone_scan-1.zip  ...            Sensation 64   \n",
       "\n",
       "  Software Versions Image Count Max Submission Timestamp  \\\n",
       "0    syngo CT 2005A           2    2011-11-03 13:59:23.0   \n",
       "1    syngo CT 2005A           1    2011-11-03 13:59:23.0   \n",
       "2    syngo CT 2005A         604    2011-11-03 14:02:12.0   \n",
       "3    syngo CT 2005A         625    2011-11-03 14:04:51.0   \n",
       "4    syngo CT 2005A         637    2011-11-03 14:07:49.0   \n",
       "\n",
       "                                        License Name  \\\n",
       "0  Creative Commons Attribution 3.0 Unported License   \n",
       "1  Creative Commons Attribution 3.0 Unported License   \n",
       "2  Creative Commons Attribution 3.0 Unported License   \n",
       "3  Creative Commons Attribution 3.0 Unported License   \n",
       "4  Creative Commons Attribution 3.0 Unported License   \n",
       "\n",
       "                                   License URI  \\\n",
       "0  http://creativecommons.org/licenses/by/3.0/   \n",
       "1  http://creativecommons.org/licenses/by/3.0/   \n",
       "2  http://creativecommons.org/licenses/by/3.0/   \n",
       "3  http://creativecommons.org/licenses/by/3.0/   \n",
       "4  http://creativecommons.org/licenses/by/3.0/   \n",
       "\n",
       "                                  Collection URI  File Size  \\\n",
       "0  https://doi.org/10.7937/K9/TCIA.2015.NWTESAY1    1052388   \n",
       "1  https://doi.org/10.7937/K9/TCIA.2015.NWTESAY1     526150   \n",
       "2  https://doi.org/10.7937/K9/TCIA.2015.NWTESAY1  317816814   \n",
       "3  https://doi.org/10.7937/K9/TCIA.2015.NWTESAY1  328867958   \n",
       "4  https://doi.org/10.7937/K9/TCIA.2015.NWTESAY1  335183810   \n",
       "\n",
       "           Date Released Third Party Analysis  \n",
       "0  2013-11-15 00:00:00.0                  NaN  \n",
       "1  2013-11-15 00:00:00.0                  NaN  \n",
       "2  2013-11-15 00:00:00.0                  NaN  \n",
       "3  2013-11-15 00:00:00.0                  NaN  \n",
       "4  2013-11-15 00:00:00.0                  NaN  \n",
       "\n",
       "[5 rows x 53 columns]"
      ]
     },
     "execution_count": 8,
     "metadata": {},
     "output_type": "execute_result"
    }
   ],
   "source": [
    "df_merged = df2.merge(df, on=\"InstanceUID\", how=\"right\") \n",
    "df_merged.head()"
   ]
  },
  {
   "cell_type": "markdown",
   "id": "29ff629c",
   "metadata": {},
   "source": [
    "#### Patient Sex"
   ]
  },
  {
   "cell_type": "code",
   "execution_count": 9,
   "id": "2972c041",
   "metadata": {},
   "outputs": [
    {
     "name": "stdout",
     "output_type": "stream",
     "text": [
      "['F' 'M' 'O' 'U' 'Not available']\n",
      "Sex\n",
      "F                401\n",
      "M                353\n",
      "Not available     40\n",
      "U                 19\n",
      "O                 12\n",
      "Name: count, dtype: int64\n"
     ]
    }
   ],
   "source": [
    "df_grouped = df_merged.groupby('Patient ID').first().copy()\n",
    "print(df_grouped['Sex'].unique())\n",
    "print(df_grouped['Sex'].value_counts(dropna=False))"
   ]
  },
  {
   "cell_type": "code",
   "execution_count": null,
   "id": "ef8196d5",
   "metadata": {},
   "outputs": [
    {
     "name": "stderr",
     "output_type": "stream",
     "text": [
      "/var/folders/kc/61fkyq4177s09yz4qvdmrjs00000gn/T/ipykernel_58097/848720126.py:43: UserWarning: Tight layout not applied. The bottom and top margins cannot be made large enough to accommodate all Axes decorations.\n",
      "  plt.tight_layout()\n"
     ]
    },
    {
     "data": {
      "image/png": "[encoded data removed]",
      "text/plain": [
       "<Figure size 800x100 with 1 Axes>"
      ]
     },
     "metadata": {},
     "output_type": "display_data"
    }
   ],
   "source": [
    "# Data\n",
    "order = ['F', 'M', 'Unknown']\n",
    "counts = df_grouped['Patient Sex'].value_counts().reindex(order, fill_value=0)\n",
    "total = counts.sum()\n",
    "percentages = (counts / total).values\n",
    "percent_texts = [f\"{round(p * 100)}%\" for p in percentages]\n",
    "\n",
    "# Labels and colors\n",
    "labels = ['F', 'M', 'Unknown']\n",
    "colors = [\"#f94480\", \"#4fb0ff\", \"#918e8e\"]  \n",
    "\n",
    "# Plot\n",
    "fig, ax = plt.subplots(figsize=(8, 1))\n",
    "\n",
    "# Stacked bar\n",
    "left = 0\n",
    "for i in range(len(percentages)):\n",
    "    width = percentages[i]\n",
    "    ax.barh(0, width, left=left, height=0.4, color=colors[i])\n",
    "    \n",
    "    # Add percentage text in the center of each bar segment\n",
    "    if width > 0.05:  # Only label if big enough to fit text\n",
    "        ax.text(left + width / 2, 0, percent_texts[i], ha='center', va='center', color='white', fontsize=10, fontweight='bold')\n",
    "    else:\n",
    "        # Optional: skip small segments or offset label\n",
    "        pass\n",
    "\n",
    "    left += width\n",
    "\n",
    "ax.set_xlim(0, 1)\n",
    "ax.set_xticks([])\n",
    "ax.set_yticks([])\n",
    "\n",
    "for i, (label, color) in enumerate(zip(labels, colors)):\n",
    "    ax.text((i+0.5)/3, -0.6, label, color='black', ha='center', va='center')\n",
    "    ax.add_patch(plt.Rectangle(((i+0.5)/3 - 0.03, -0.5), 0.06, 0.15, color=color, transform=ax.transAxes, clip_on=False))\n",
    "\n",
    "# Remove borders\n",
    "for spine in ax.spines.values():\n",
    "    spine.set_visible(False)\n",
    "\n",
    "plt.title(\"Patient Sex Distribution\", loc='left')\n",
    "plt.tight_layout()\n",
    "plt.show()"
   ]
  },
  {
   "cell_type": "markdown",
   "id": "476fe202",
   "metadata": {},
   "source": [
    "#### Patient Position in Scan"
   ]
  },
  {
   "cell_type": "code",
   "execution_count": 11,
   "id": "b5b5bec3",
   "metadata": {},
   "outputs": [
    {
     "name": "stdout",
     "output_type": "stream",
     "text": [
      "patient_position\n",
      "NaN     1706\n",
      "FFP      589\n",
      "FFS      589\n",
      "HFS      266\n",
      "HFP      261\n",
      "HFDR      21\n",
      "FFDR      11\n",
      "FFDL       8\n",
      "Name: count, dtype: int64\n"
     ]
    }
   ],
   "source": [
    "df_merged['patient_position'].unique()\n",
    "print(df_merged['patient_position'].value_counts(dropna=False))\n"
   ]
  },
  {
   "cell_type": "code",
   "execution_count": 12,
   "id": "772764cf",
   "metadata": {},
   "outputs": [
    {
     "data": {
      "image/png": "[encoded data removed]",
      "text/plain": [
       "<Figure size 1000x600 with 1 Axes>"
      ]
     },
     "metadata": {},
     "output_type": "display_data"
    }
   ],
   "source": [
    "# Data\n",
    "raw_counts = {'FFP': 589, 'FFS': 589, 'HFS': 266, 'HFP': 261, 'HFDR': 21, 'FFDR': 11, 'FFDL': 8, 'Unknown': 1706}\n",
    "order = ['FFP', 'FFS', 'HFS', 'HFP', 'HFDR', 'FFDR', 'FFDL', 'Unknown']\n",
    "used_positions = {'FFP', 'FFS', 'HFP', 'HFS'}  # prone & supine positions\n",
    "\n",
    "counts = [raw_counts[pos] for pos in order]\n",
    "colors = ['#4fb0ff' if pos in used_positions else '#918e8e' for pos in order]\n",
    "\n",
    "# Plot\n",
    "fig, ax = plt.subplots(figsize=(10, 6))\n",
    "bars = ax.barh(order, counts, color=colors)\n",
    "\n",
    "for bar in bars:\n",
    "    width = bar.get_width()\n",
    "    ax.text(width + 20, bar.get_y() + bar.get_height()/2, str(width), va='center', fontsize=9)\n",
    "\n",
    "ax.set_xlabel('Number of Scans')\n",
    "ax.set_title('Patient Positions in Scans')\n",
    "ax.invert_yaxis()  \n",
    "ax.grid(axis='x', linestyle='--', alpha=0.5)\n",
    "\n",
    "# Legend\n",
    "legend_elements = [\n",
    "    Patch(facecolor=\"#4fb0ff\", label='Used Positions (Prone/Supine)'),\n",
    "    Patch(facecolor=\"#918e8e\", label='Discarded Positions')\n",
    "]\n",
    "ax.legend(handles=legend_elements, loc='upper right')\n",
    "\n",
    "plt.tight_layout()\n",
    "plt.show()\n"
   ]
  },
  {
   "cell_type": "markdown",
   "id": "5f7e0c88",
   "metadata": {},
   "source": [
    "#### Scanner Models"
   ]
  },
  {
   "cell_type": "code",
   "execution_count": 13,
   "id": "932102cd",
   "metadata": {},
   "outputs": [
    {
     "name": "stdout",
     "output_type": "stream",
     "text": [
      "Manufacturer Model Name\n",
      "Sensation 64         1210\n",
      "LightSpeed16          865\n",
      "Sensation 16          815\n",
      "NaN                   202\n",
      "Brilliance 40         117\n",
      "Aquilion              110\n",
      "LightSpeed VCT         91\n",
      "Brilliance 64          27\n",
      "LightSpeed Pro 16      14\n",
      "Name: count, dtype: int64\n"
     ]
    }
   ],
   "source": [
    "df_merged['Manufacturer Model Name'].unique()\n",
    "print(df_merged['Manufacturer Model Name'].value_counts(dropna=False))"
   ]
  },
  {
   "cell_type": "code",
   "execution_count": 14,
   "id": "6d94ff2d",
   "metadata": {},
   "outputs": [
    {
     "name": "stdout",
     "output_type": "stream",
     "text": [
      "Manufacturer\n",
      "SIEMENS               2025\n",
      "GE MEDICAL SYSTEMS     970\n",
      "NaN                    202\n",
      "Philips                144\n",
      "TOSHIBA                110\n",
      "Name: count, dtype: int64\n"
     ]
    }
   ],
   "source": [
    "print(df_merged['Manufacturer'].value_counts(dropna=False))"
   ]
  },
  {
   "cell_type": "code",
   "execution_count": 15,
   "id": "695109fd",
   "metadata": {},
   "outputs": [
    {
     "name": "stderr",
     "output_type": "stream",
     "text": [
      "/var/folders/kc/61fkyq4177s09yz4qvdmrjs00000gn/T/ipykernel_58097/1072646651.py:10: FutureWarning: unique with argument that is not not a Series, Index, ExtensionArray, or np.ndarray is deprecated and will raise in a future version.\n",
      "  all_labels = list(pd.unique(df['Manufacturer'].tolist() + df['Model'].tolist()))\n"
     ]
    },
    {
     "data": {
      "application/vnd.plotly.v1+json": {
       "config": {
        "plotlyServerURL": "https://plot.ly"
       },
       "data": [
        {
         "link": {
          "source": {
           "bdata": "AAEAAgMEAQMB",
           "dtype": "i1"
          },
          "target": {
           "bdata": "BQYHAggJCgsM",
           "dtype": "i1"
          },
          "value": {
           "bdata": "ugRhAy8DygB1AG4AWwAbAA4A",
           "dtype": "i2"
          }
         },
         "node": {
          "label": [
           "SIEMENS",
           "GE MEDICAL SYSTEMS",
           "Unknown",
           "Philips",
           "TOSHIBA",
           "Sensation 64",
           "LightSpeed16",
           "Sensation 16",
           "Brilliance 40",
           "Aquilion",
           "LightSpeed VCT",
           "Brilliance 64",
           "LightSpeed Pro 16"
          ],
          "line": {
           "color": "black",
           "width": 0.5
          },
          "pad": 15,
          "thickness": 20
         },
         "type": "sankey"
        }
       ],
       "layout": {
        "font": {
         "size": 12
        },
        "template": {
         "data": {
          "bar": [
           {
            "error_x": {
             "color": "#2a3f5f"
            },
            "error_y": {
             "color": "#2a3f5f"
            },
            "marker": {
             "line": {
              "color": "#E5ECF6",
              "width": 0.5
             },
             "pattern": {
              "fillmode": "overlay",
              "size": 10,
              "solidity": 0.2
             }
            },
            "type": "bar"
           }
          ],
          "barpolar": [
           {
            "marker": {
             "line": {
              "color": "#E5ECF6",
              "width": 0.5
             },
             "pattern": {
              "fillmode": "overlay",
              "size": 10,
              "solidity": 0.2
             }
            },
            "type": "barpolar"
           }
          ],
          "carpet": [
           {
            "aaxis": {
             "endlinecolor": "#2a3f5f",
             "gridcolor": "white",
             "linecolor": "white",
             "minorgridcolor": "white",
             "startlinecolor": "#2a3f5f"
            },
            "baxis": {
             "endlinecolor": "#2a3f5f",
             "gridcolor": "white",
             "linecolor": "white",
             "minorgridcolor": "white",
             "startlinecolor": "#2a3f5f"
            },
            "type": "carpet"
           }
          ],
          "choropleth": [
           {
            "colorbar": {
             "outlinewidth": 0,
             "ticks": ""
            },
            "type": "choropleth"
           }
          ],
          "contour": [
           {
            "colorbar": {
             "outlinewidth": 0,
             "ticks": ""
            },
            "colorscale": [
             [
              0,
              "#0d0887"
             ],
             [
              0.1111111111111111,
              "#46039f"
             ],
             [
              0.2222222222222222,
              "#7201a8"
             ],
             [
              0.3333333333333333,
              "#9c179e"
             ],
             [
              0.4444444444444444,
              "#bd3786"
             ],
             [
              0.5555555555555556,
              "#d8576b"
             ],
             [
              0.6666666666666666,
              "#ed7953"
             ],
             [
              0.7777777777777778,
              "#fb9f3a"
             ],
             [
              0.8888888888888888,
              "#fdca26"
             ],
             [
              1,
              "#f0f921"
             ]
            ],
            "type": "contour"
           }
          ],
          "contourcarpet": [
           {
            "colorbar": {
             "outlinewidth": 0,
             "ticks": ""
            },
            "type": "contourcarpet"
           }
          ],
          "heatmap": [
           {
            "colorbar": {
             "outlinewidth": 0,
             "ticks": ""
            },
            "colorscale": [
             [
              0,
              "#0d0887"
             ],
             [
              0.1111111111111111,
              "#46039f"
             ],
             [
              0.2222222222222222,
              "#7201a8"
             ],
             [
              0.3333333333333333,
              "#9c179e"
             ],
             [
              0.4444444444444444,
              "#bd3786"
             ],
             [
              0.5555555555555556,
              "#d8576b"
             ],
             [
              0.6666666666666666,
              "#ed7953"
             ],
             [
              0.7777777777777778,
              "#fb9f3a"
             ],
             [
              0.8888888888888888,
              "#fdca26"
             ],
             [
              1,
              "#f0f921"
             ]
            ],
            "type": "heatmap"
           }
          ],
          "histogram": [
           {
            "marker": {
             "pattern": {
              "fillmode": "overlay",
              "size": 10,
              "solidity": 0.2
             }
            },
            "type": "histogram"
           }
          ],
          "histogram2d": [
           {
            "colorbar": {
             "outlinewidth": 0,
             "ticks": ""
            },
            "colorscale": [
             [
              0,
              "#0d0887"
             ],
             [
              0.1111111111111111,
              "#46039f"
             ],
             [
              0.2222222222222222,
              "#7201a8"
             ],
             [
              0.3333333333333333,
              "#9c179e"
             ],
             [
              0.4444444444444444,
              "#bd3786"
             ],
             [
              0.5555555555555556,
              "#d8576b"
             ],
             [
              0.6666666666666666,
              "#ed7953"
             ],
             [
              0.7777777777777778,
              "#fb9f3a"
             ],
             [
              0.8888888888888888,
              "#fdca26"
             ],
             [
              1,
              "#f0f921"
             ]
            ],
            "type": "histogram2d"
           }
          ],
          "histogram2dcontour": [
           {
            "colorbar": {
             "outlinewidth": 0,
             "ticks": ""
            },
            "colorscale": [
             [
              0,
              "#0d0887"
             ],
             [
              0.1111111111111111,
              "#46039f"
             ],
             [
              0.2222222222222222,
              "#7201a8"
             ],
             [
              0.3333333333333333,
              "#9c179e"
             ],
             [
              0.4444444444444444,
              "#bd3786"
             ],
             [
              0.5555555555555556,
              "#d8576b"
             ],
             [
              0.6666666666666666,
              "#ed7953"
             ],
             [
              0.7777777777777778,
              "#fb9f3a"
             ],
             [
              0.8888888888888888,
              "#fdca26"
             ],
             [
              1,
              "#f0f921"
             ]
            ],
            "type": "histogram2dcontour"
           }
          ],
          "mesh3d": [
           {
            "colorbar": {
             "outlinewidth": 0,
             "ticks": ""
            },
            "type": "mesh3d"
           }
          ],
          "parcoords": [
           {
            "line": {
             "colorbar": {
              "outlinewidth": 0,
              "ticks": ""
             }
            },
            "type": "parcoords"
           }
          ],
          "pie": [
           {
            "automargin": true,
            "type": "pie"
           }
          ],
          "scatter": [
           {
            "fillpattern": {
             "fillmode": "overlay",
             "size": 10,
             "solidity": 0.2
            },
            "type": "scatter"
           }
          ],
          "scatter3d": [
           {
            "line": {
             "colorbar": {
              "outlinewidth": 0,
              "ticks": ""
             }
            },
            "marker": {
             "colorbar": {
              "outlinewidth": 0,
              "ticks": ""
             }
            },
            "type": "scatter3d"
           }
          ],
          "scattercarpet": [
           {
            "marker": {
             "colorbar": {
              "outlinewidth": 0,
              "ticks": ""
             }
            },
            "type": "scattercarpet"
           }
          ],
          "scattergeo": [
           {
            "marker": {
             "colorbar": {
              "outlinewidth": 0,
              "ticks": ""
             }
            },
            "type": "scattergeo"
           }
          ],
          "scattergl": [
           {
            "marker": {
             "colorbar": {
              "outlinewidth": 0,
              "ticks": ""
             }
            },
            "type": "scattergl"
           }
          ],
          "scattermap": [
           {
            "marker": {
             "colorbar": {
              "outlinewidth": 0,
              "ticks": ""
             }
            },
            "type": "scattermap"
           }
          ],
          "scattermapbox": [
           {
            "marker": {
             "colorbar": {
              "outlinewidth": 0,
              "ticks": ""
             }
            },
            "type": "scattermapbox"
           }
          ],
          "scatterpolar": [
           {
            "marker": {
             "colorbar": {
              "outlinewidth": 0,
              "ticks": ""
             }
            },
            "type": "scatterpolar"
           }
          ],
          "scatterpolargl": [
           {
            "marker": {
             "colorbar": {
              "outlinewidth": 0,
              "ticks": ""
             }
            },
            "type": "scatterpolargl"
           }
          ],
          "scatterternary": [
           {
            "marker": {
             "colorbar": {
              "outlinewidth": 0,
              "ticks": ""
             }
            },
            "type": "scatterternary"
           }
          ],
          "surface": [
           {
            "colorbar": {
             "outlinewidth": 0,
             "ticks": ""
            },
            "colorscale": [
             [
              0,
              "#0d0887"
             ],
             [
              0.1111111111111111,
              "#46039f"
             ],
             [
              0.2222222222222222,
              "#7201a8"
             ],
             [
              0.3333333333333333,
              "#9c179e"
             ],
             [
              0.4444444444444444,
              "#bd3786"
             ],
             [
              0.5555555555555556,
              "#d8576b"
             ],
             [
              0.6666666666666666,
              "#ed7953"
             ],
             [
              0.7777777777777778,
              "#fb9f3a"
             ],
             [
              0.8888888888888888,
              "#fdca26"
             ],
             [
              1,
              "#f0f921"
             ]
            ],
            "type": "surface"
           }
          ],
          "table": [
           {
            "cells": {
             "fill": {
              "color": "#EBF0F8"
             },
             "line": {
              "color": "white"
             }
            },
            "header": {
             "fill": {
              "color": "#C8D4E3"
             },
             "line": {
              "color": "white"
             }
            },
            "type": "table"
           }
          ]
         },
         "layout": {
          "annotationdefaults": {
           "arrowcolor": "#2a3f5f",
           "arrowhead": 0,
           "arrowwidth": 1
          },
          "autotypenumbers": "strict",
          "coloraxis": {
           "colorbar": {
            "outlinewidth": 0,
            "ticks": ""
           }
          },
          "colorscale": {
           "diverging": [
            [
             0,
             "#8e0152"
            ],
            [
             0.1,
             "#c51b7d"
            ],
            [
             0.2,
             "#de77ae"
            ],
            [
             0.3,
             "#f1b6da"
            ],
            [
             0.4,
             "#fde0ef"
            ],
            [
             0.5,
             "#f7f7f7"
            ],
            [
             0.6,
             "#e6f5d0"
            ],
            [
             0.7,
             "#b8e186"
            ],
            [
             0.8,
             "#7fbc41"
            ],
            [
             0.9,
             "#4d9221"
            ],
            [
             1,
             "#276419"
            ]
           ],
           "sequential": [
            [
             0,
             "#0d0887"
            ],
            [
             0.1111111111111111,
             "#46039f"
            ],
            [
             0.2222222222222222,
             "#7201a8"
            ],
            [
             0.3333333333333333,
             "#9c179e"
            ],
            [
             0.4444444444444444,
             "#bd3786"
            ],
            [
             0.5555555555555556,
             "#d8576b"
            ],
            [
             0.6666666666666666,
             "#ed7953"
            ],
            [
             0.7777777777777778,
             "#fb9f3a"
            ],
            [
             0.8888888888888888,
             "#fdca26"
            ],
            [
             1,
             "#f0f921"
            ]
           ],
           "sequentialminus": [
            [
             0,
             "#0d0887"
            ],
            [
             0.1111111111111111,
             "#46039f"
            ],
            [
             0.2222222222222222,
             "#7201a8"
            ],
            [
             0.3333333333333333,
             "#9c179e"
            ],
            [
             0.4444444444444444,
             "#bd3786"
            ],
            [
             0.5555555555555556,
             "#d8576b"
            ],
            [
             0.6666666666666666,
             "#ed7953"
            ],
            [
             0.7777777777777778,
             "#fb9f3a"
            ],
            [
             0.8888888888888888,
             "#fdca26"
            ],
            [
             1,
             "#f0f921"
            ]
           ]
          },
          "colorway": [
           "#636efa",
           "#EF553B",
           "#00cc96",
           "#ab63fa",
           "#FFA15A",
           "#19d3f3",
           "#FF6692",
           "#B6E880",
           "#FF97FF",
           "#FECB52"
          ],
          "font": {
           "color": "#2a3f5f"
          },
          "geo": {
           "bgcolor": "white",
           "lakecolor": "white",
           "landcolor": "#E5ECF6",
           "showlakes": true,
           "showland": true,
           "subunitcolor": "white"
          },
          "hoverlabel": {
           "align": "left"
          },
          "hovermode": "closest",
          "mapbox": {
           "style": "light"
          },
          "paper_bgcolor": "white",
          "plot_bgcolor": "#E5ECF6",
          "polar": {
           "angularaxis": {
            "gridcolor": "white",
            "linecolor": "white",
            "ticks": ""
           },
           "bgcolor": "#E5ECF6",
           "radialaxis": {
            "gridcolor": "white",
            "linecolor": "white",
            "ticks": ""
           }
          },
          "scene": {
           "xaxis": {
            "backgroundcolor": "#E5ECF6",
            "gridcolor": "white",
            "gridwidth": 2,
            "linecolor": "white",
            "showbackground": true,
            "ticks": "",
            "zerolinecolor": "white"
           },
           "yaxis": {
            "backgroundcolor": "#E5ECF6",
            "gridcolor": "white",
            "gridwidth": 2,
            "linecolor": "white",
            "showbackground": true,
            "ticks": "",
            "zerolinecolor": "white"
           },
           "zaxis": {
            "backgroundcolor": "#E5ECF6",
            "gridcolor": "white",
            "gridwidth": 2,
            "linecolor": "white",
            "showbackground": true,
            "ticks": "",
            "zerolinecolor": "white"
           }
          },
          "shapedefaults": {
           "line": {
            "color": "#2a3f5f"
           }
          },
          "ternary": {
           "aaxis": {
            "gridcolor": "white",
            "linecolor": "white",
            "ticks": ""
           },
           "baxis": {
            "gridcolor": "white",
            "linecolor": "white",
            "ticks": ""
           },
           "bgcolor": "#E5ECF6",
           "caxis": {
            "gridcolor": "white",
            "linecolor": "white",
            "ticks": ""
           }
          },
          "title": {
           "x": 0.05
          },
          "xaxis": {
           "automargin": true,
           "gridcolor": "white",
           "linecolor": "white",
           "ticks": "",
           "title": {
            "standoff": 15
           },
           "zerolinecolor": "white",
           "zerolinewidth": 2
          },
          "yaxis": {
           "automargin": true,
           "gridcolor": "white",
           "linecolor": "white",
           "ticks": "",
           "title": {
            "standoff": 15
           },
           "zerolinecolor": "white",
           "zerolinewidth": 2
          }
         }
        },
        "title": {
         "text": "Sankey Diagram: Scanner Manufacturers → Models"
        }
       }
      }
     },
     "metadata": {},
     "output_type": "display_data"
    }
   ],
   "source": [
    "data = {\n",
    "    'Manufacturer': ['SIEMENS', 'GE MEDICAL SYSTEMS', 'SIEMENS', 'Unknown', 'Philips', 'TOSHIBA',\n",
    "                     'GE MEDICAL SYSTEMS', 'Philips', 'GE MEDICAL SYSTEMS'],\n",
    "    'Model': ['Sensation 64', 'LightSpeed16', 'Sensation 16', 'Unknown', 'Brilliance 40', 'Aquilion',\n",
    "              'LightSpeed VCT', 'Brilliance 64', 'LightSpeed Pro 16'],\n",
    "    'Count': [1210, 865, 815, 202, 117, 110, 91, 27, 14]\n",
    "}\n",
    "df = pd.DataFrame(data)\n",
    "\n",
    "all_labels = list(pd.unique(df['Manufacturer'].tolist() + df['Model'].tolist()))\n",
    "label_index = {label: i for i, label in enumerate(all_labels)}\n",
    "\n",
    "# Create source-target-value mappings\n",
    "sources = df['Manufacturer'].map(label_index)\n",
    "targets = df['Model'].map(label_index)\n",
    "values = df['Count']\n",
    "\n",
    "# Sankey diagram\n",
    "fig = go.Figure(data=[go.Sankey(\n",
    "    node=dict(\n",
    "        pad=15,\n",
    "        thickness=20,\n",
    "        line=dict(color=\"black\", width=0.5),\n",
    "        label=all_labels\n",
    "    ),\n",
    "    link=dict(\n",
    "        source=sources,\n",
    "        target=targets,\n",
    "        value=values,\n",
    "    )\n",
    ")])\n",
    "\n",
    "fig.update_layout(title_text=\"Sankey Diagram: Scanner Manufacturers → Models\", font_size=12)\n",
    "fig.show()\n"
   ]
  },
  {
   "cell_type": "markdown",
   "id": "f59eac80",
   "metadata": {},
   "source": [
    "#### Patient Age"
   ]
  },
  {
   "cell_type": "code",
   "execution_count": 16,
   "id": "b7a2e420",
   "metadata": {},
   "outputs": [
    {
     "data": {
      "image/png": "[encoded data removed]",
      "text/plain": [
       "<Figure size 1000x500 with 1 Axes>"
      ]
     },
     "metadata": {},
     "output_type": "display_data"
    }
   ],
   "source": [
    "df_grouped['Patient Age'] = pd.to_numeric(df_grouped['Patient Age'].str.replace('Y', '', regex=False), errors='coerce')\n",
    "ages = df_grouped['Patient Age'].dropna()\n",
    "\n",
    "bin_edges = list(range(0, int(ages.max()) + 5, 5))\n",
    "bin_centers = [(bin_edges[i] + bin_edges[i+1]) / 2 for i in range(len(bin_edges)-1)]\n",
    "\n",
    "age_bins = pd.cut(ages, bins=bin_edges, right=False)\n",
    "counts = age_bins.value_counts(sort=False)\n",
    "\n",
    "colors = []\n",
    "for center in bin_centers:\n",
    "    if 50 <= center <= 90:\n",
    "        colors.append('#4fb0ff')  \n",
    "    else:\n",
    "        colors.append('#918e8e')  \n",
    "\n",
    "# Plot\n",
    "fig, ax = plt.subplots(figsize=(10, 5))\n",
    "bars = ax.bar(bin_centers, counts, width=5, color=colors, edgecolor='white', align='center')\n",
    "\n",
    "ax.axvline(50, color='black', linestyle='--', linewidth=1)\n",
    "ax.axvline(90, color='black', linestyle='--', linewidth=1)\n",
    "\n",
    "for center, count in zip(bin_centers, counts):\n",
    "    if count > 0:\n",
    "        ax.text(center, count + max(counts)*0.01, str(count),\n",
    "                ha='center', va='bottom', fontsize=9)\n",
    "\n",
    "# Labels and legend\n",
    "ax.set_xlabel('Age')\n",
    "ax.set_ylabel('Count')\n",
    "ax.set_title('Age Distribution of Patients')\n",
    "ax.legend(handles=[\n",
    "    plt.Line2D([0], [0], color='#4fb0ff', lw=6, label='Included (50-90)'),\n",
    "    plt.Line2D([0], [0], color='#918e8e', lw=6, label='Excluded'),\n",
    "    plt.Line2D([0], [0], color='black', linestyle='--', label='Inclusion Bounds')\n",
    "])\n",
    "plt.tight_layout()\n",
    "plt.show()\n"
   ]
  },
  {
   "cell_type": "markdown",
   "id": "b3ffba8d",
   "metadata": {},
   "source": [
    "#### Image Dimensions"
   ]
  },
  {
   "cell_type": "code",
   "execution_count": 17,
   "id": "1ef0a9d6",
   "metadata": {},
   "outputs": [
    {
     "data": {
      "image/png": "[encoded data removed]",
      "text/plain": [
       "<Figure size 1500x500 with 1 Axes>"
      ]
     },
     "metadata": {},
     "output_type": "display_data"
    }
   ],
   "source": [
    "df_merged['dimensions'] = df_merged['dimensions'].apply(\n",
    "    lambda x: x if isinstance(x, list) and len(x) == 3 else [None, None, None]\n",
    ")\n",
    "df_merged[['x', 'y', 'z']] = pd.DataFrame(df_merged['dimensions'].tolist(), index=df_merged.index)\n",
    "\n",
    "z_values = pd.to_numeric(df_merged['z'], errors='coerce').dropna()\n",
    "\n",
    "bins = list(range(50, 1001, 50))  # 0 to 1050\n",
    "labels = [f'{bins[i]}-{bins[i+1]}' for i in range(len(bins)-1)]\n",
    "\n",
    "z_categories = pd.cut(z_values, bins=bins, labels=labels, right=False)\n",
    "bin_counts = z_categories.value_counts().reindex(labels, fill_value=0)\n",
    "\n",
    "colors = []\n",
    "for label in labels:\n",
    "    lower, upper = map(int, label.split('-'))\n",
    "    if lower >= 350 and upper <= 700:\n",
    "        colors.append('#4fb0ff')  \n",
    "    else:\n",
    "        colors.append('#918e8e')  \n",
    "\n",
    "# Plot\n",
    "fig, ax = plt.subplots(figsize=(15, 5))\n",
    "bars = ax.bar(labels, bin_counts.values, color=colors, edgecolor='white')\n",
    "\n",
    "# Add value labels\n",
    "for bar in bars:\n",
    "    height = bar.get_height()\n",
    "    ax.text(bar.get_x() + bar.get_width()/2, height + 5,\n",
    "            str(height), ha='center', va='bottom', fontsize=9)\n",
    "    \n",
    "xticks = np.arange(len(labels))\n",
    "bin_midpoints = [(a + b) / 2 for a, b in zip(bins[:-1], bins[1:])]\n",
    "\n",
    "pos_350 = np.interp(350, bin_midpoints, xticks)\n",
    "pos_700 = np.interp(700, bin_midpoints, xticks)\n",
    "\n",
    "ax.axvline(x=pos_350, linestyle='--', color='black', linewidth=1)\n",
    "ax.axvline(x=pos_700, linestyle='--', color='black', linewidth=1)\n",
    "ax.set_ylabel('Number of Images')\n",
    "ax.set_xlabel('Number of Slices')\n",
    "ax.set_title('Distribution of Image Z Dimensions (Axial View)')\n",
    "ax.grid(axis='y', linestyle='--', alpha=0.5)\n",
    "\n",
    "# Legend\n",
    "legend_elements = [\n",
    "    Patch(facecolor='#4fb0ff', label='Kept (350-700)'),\n",
    "    Patch(facecolor='#918e8e', label='Excluded (<350 or >700)')\n",
    "]\n",
    "ax.legend(handles=legend_elements, loc='upper right')\n",
    "\n",
    "plt.tight_layout()\n",
    "plt.show()\n"
   ]
  },
  {
   "cell_type": "code",
   "execution_count": 18,
   "id": "8761fc4b",
   "metadata": {},
   "outputs": [
    {
     "data": {
      "text/plain": [
       "array([ nan, 512.])"
      ]
     },
     "execution_count": 18,
     "metadata": {},
     "output_type": "execute_result"
    }
   ],
   "source": [
    "df_merged['x'].unique()"
   ]
  },
  {
   "cell_type": "code",
   "execution_count": 19,
   "id": "83bfef10",
   "metadata": {},
   "outputs": [
    {
     "data": {
      "text/plain": [
       "array([ nan, 512.])"
      ]
     },
     "execution_count": 19,
     "metadata": {},
     "output_type": "execute_result"
    }
   ],
   "source": [
    "df_merged['y'].unique()"
   ]
  }
 ],
 "metadata": {
  "kernelspec": {
   "display_name": "Python 3",
   "language": "python",
   "name": "python3"
  },
  "language_info": {
   "codemirror_mode": {
    "name": "ipython",
    "version": 3
   },
   "file_extension": ".py",
   "mimetype": "text/x-python",
   "name": "python",
   "nbconvert_exporter": "python",
   "pygments_lexer": "ipython3",
   "version": "3.10.10"
  }
 },
 "nbformat": 4,
 "nbformat_minor": 5
}
